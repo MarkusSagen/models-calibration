{
 "cells": [
  {
   "cell_type": "code",
   "execution_count": null,
   "id": "f13838b6",
   "metadata": {},
   "outputs": [],
   "source": [
    "os.makedirs('model', exist_ok=True)\n",
    "model_path = f'model/{calibration_model_name}.pmml'\n",
    "isotonic2pmml.topmml(isotonic = model, \n",
    "                         datafield_name = 'probability', \n",
    "                         targetfield_name = 'calibrated_probablity', \n",
    "                         outputfile = model_path, \n",
    "                         xs=prob_pred, \n",
    "                         ys=isotonic_model.transform(prob_pred))"
   ]
  }
 ],
 "metadata": {
  "kernelspec": {
   "display_name": "Python [conda env:calibration]",
   "language": "python",
   "name": "conda-env-calibration-py"
  },
  "language_info": {
   "codemirror_mode": {
    "name": "ipython",
    "version": 3
   },
   "file_extension": ".py",
   "mimetype": "text/x-python",
   "name": "python",
   "nbconvert_exporter": "python",
   "pygments_lexer": "ipython3",
   "version": "3.8.10"
  }
 },
 "nbformat": 4,
 "nbformat_minor": 5
}
